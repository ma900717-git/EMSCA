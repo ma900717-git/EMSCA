{
 "cells": [
  {
   "cell_type": "code",
   "execution_count": 1,
   "metadata": {},
   "outputs": [],
   "source": [
    "from __future__ import absolute_import, division, print_function, unicode_literals\n",
    "import tensorflow as tf\n",
    "from tensorflow import keras\n",
    "from tensorflow.keras import datasets, layers, models\n",
    "\n",
    "import matplotlib.pyplot as plt\n",
    "from scipy.io import loadmat\n",
    "import numpy as np\n",
    "import pandas as pd\n",
    "\n",
    "# tf tutorial\n",
    "# https://colab.research.google.com/github/tensorflow/docs/blob/master/site/en/tutorials/keras/regression.ipynb#scrollTo=Cuym4yvk76vU"
   ]
  },
  {
   "cell_type": "code",
   "execution_count": 2,
   "metadata": {},
   "outputs": [],
   "source": [
    "mat = loadmat('em_fixed_text_9loc.mat')\n",
    "labels = mat['label']\n",
    "traces = mat['traces']\n",
    "\n",
    "raw_dataset = pd.DataFrame(np.concatenate((np.transpose(labels), traces), axis=1))\n",
    "dataset = raw_dataset.copy()"
   ]
  },
  {
   "cell_type": "code",
   "execution_count": null,
   "metadata": {},
   "outputs": [],
   "source": [
    "# Creat dataset 60/20/20\n",
    "train_dataset = dataset.sample(frac = 0.8) # random shuffle\n",
    "test_dataset = dataset.drop(train_dataset.index)\n",
    "\n",
    "# Seperate lables\n",
    "train_labels = train_dataset.pop(0)\n",
    "test_labels = test_dataset.pop(0)\n",
    "# train_dataset.describe()\n",
    "# test_dataset.describe()"
   ]
  },
  {
   "cell_type": "code",
   "execution_count": null,
   "metadata": {},
   "outputs": [],
   "source": [
    "inputs = keras.Input(shape=(5000,), name='sample_input')\n",
    "x = layers.Dense(64, activation='relu')(inputs)\n",
    "x = layers.Dense(64, activation='relu')(x)\n",
    "outputs = layers.Dense(9, activation='softmax', name='Final')(x)\n",
    "\n",
    "model = keras.Model(inputs=inputs, outputs=outputs, name='location')\n",
    "\n",
    "model.compile(optimizer='adam',\n",
    "              loss='sparse_categorical_crossentropy',\n",
    "              metrics=['accuracy'])\n",
    "\n",
    "# model.summary()\n",
    "keras.utils.plot_model(model, show_shapes=True)"
   ]
  },
  {
   "cell_type": "code",
   "execution_count": 110,
   "metadata": {},
   "outputs": [
    {
     "name": "stdout",
     "output_type": "stream",
     "text": [
      "WARNING:tensorflow:Falling back from v2 loop because of error: Failed to find data adapter that can handle input: <class 'pandas.core.frame.DataFrame'>, <class 'NoneType'>\n",
      "Train on 5400 samples, validate on 1800 samples\n",
      "Epoch 1/10\n",
      "5400/5400 - 1s - loss: 6.0216e-04 - accuracy: 1.0000 - val_loss: 0.0128 - val_accuracy: 0.9961\n",
      "Epoch 2/10\n",
      "5400/5400 - 1s - loss: 5.2075e-04 - accuracy: 1.0000 - val_loss: 0.0116 - val_accuracy: 0.9972\n",
      "Epoch 3/10\n",
      "5400/5400 - 1s - loss: 3.6656e-04 - accuracy: 1.0000 - val_loss: 0.0111 - val_accuracy: 0.9972\n",
      "Epoch 4/10\n",
      "5400/5400 - 1s - loss: 2.8619e-04 - accuracy: 1.0000 - val_loss: 0.0127 - val_accuracy: 0.9972\n",
      "Epoch 5/10\n",
      "5400/5400 - 1s - loss: 3.0280e-04 - accuracy: 1.0000 - val_loss: 0.0126 - val_accuracy: 0.9967\n",
      "Epoch 6/10\n",
      "5400/5400 - 1s - loss: 2.8697e-04 - accuracy: 1.0000 - val_loss: 0.0122 - val_accuracy: 0.9972\n",
      "Epoch 7/10\n",
      "5400/5400 - 1s - loss: 2.2282e-04 - accuracy: 1.0000 - val_loss: 0.0120 - val_accuracy: 0.9972\n",
      "Epoch 8/10\n",
      "5400/5400 - 1s - loss: 1.8873e-04 - accuracy: 1.0000 - val_loss: 0.0127 - val_accuracy: 0.9972\n",
      "Epoch 9/10\n",
      "5400/5400 - 1s - loss: 1.8227e-04 - accuracy: 1.0000 - val_loss: 0.0118 - val_accuracy: 0.9972\n",
      "Epoch 10/10\n",
      "5400/5400 - 1s - loss: 1.6796e-04 - accuracy: 1.0000 - val_loss: 0.0125 - val_accuracy: 0.9972\n",
      "WARNING:tensorflow:Falling back from v2 loop because of error: Failed to find data adapter that can handle input: <class 'pandas.core.frame.DataFrame'>, <class 'NoneType'>\n",
      "1800/1800 [==============================] - 0s 95us/sample - loss: 0.0079 - accuracy: 0.9978\n"
     ]
    }
   ],
   "source": [
    "# Train model\n",
    "history = model.fit(train_dataset, train_labels, batch_size=64,\n",
    "                   epochs=10, validation_split=0.25, verbose=2)\n",
    "\n",
    "# Save model\n",
    "model.save('tf_model_location.h5')\n",
    "\n",
    "# Check accuracy on test set\n",
    "test_loss, test_acc = newmodel.evaluate(test_dataset, test_labels)"
   ]
  },
  {
   "cell_type": "markdown",
   "metadata": {},
   "source": [
    "### Plot validation loss vs training loss "
   ]
  },
  {
   "cell_type": "code",
   "execution_count": null,
   "metadata": {},
   "outputs": [],
   "source": [
    "# hist = pd.DataFrame(history.history)\n",
    "# hist['epoch'] = history.epoch\n",
    "# hist.tail()\n",
    "def plot_history(history):\n",
    "  hist = pd.DataFrame(history.history)\n",
    "  hist['epoch'] = history.epoch\n",
    "\n",
    "  plt.figure()\n",
    "  plt.xlabel('Epoch')\n",
    "  plt.ylabel('Loss')\n",
    "  plt.plot(hist['epoch'], hist['loss'],\n",
    "           label='Training loss')\n",
    "  plt.plot(hist['epoch'], hist['val_loss'],\n",
    "           label = 'Val loss')\n",
    "#   plt.ylim([0,1.1])\n",
    "  plt.legend()\n",
    "  plt.show()\n",
    "plot_history(history)"
   ]
  },
  {
   "cell_type": "markdown",
   "metadata": {},
   "source": [
    "### Load trained model "
   ]
  },
  {
   "cell_type": "code",
   "execution_count": 105,
   "metadata": {},
   "outputs": [],
   "source": [
    "# Load saved model\n",
    "newmodel = keras.models.load_model('tf_model_location.h5')"
   ]
  },
  {
   "cell_type": "markdown",
   "metadata": {},
   "source": [
    "### Sanity check of predictions on test set "
   ]
  },
  {
   "cell_type": "code",
   "execution_count": 122,
   "metadata": {},
   "outputs": [
    {
     "name": "stdout",
     "output_type": "stream",
     "text": [
      "WARNING:tensorflow:Falling back from v2 loop because of error: Failed to find data adapter that can handle input: <class 'pandas.core.frame.DataFrame'>, <class 'NoneType'>\n"
     ]
    },
    {
     "data": {
      "text/plain": [
       "array([9.9981314e-01, 1.6256139e-04, 4.1772310e-09, 2.1282660e-05,\n",
       "       1.7989589e-07, 8.5545156e-12, 6.1463135e-07, 2.1742560e-06,\n",
       "       3.0277907e-09], dtype=float32)"
      ]
     },
     "execution_count": 122,
     "metadata": {},
     "output_type": "execute_result"
    }
   ],
   "source": [
    "predictions = model.predict(test_dataset)\n",
    "\n",
    "k = 123\n",
    "predictions[k]"
   ]
  },
  {
   "cell_type": "code",
   "execution_count": 162,
   "metadata": {},
   "outputs": [
    {
     "data": {
      "text/plain": [
       "array([[9.9996758e-01, 2.7221689e-05, 8.6133006e-10, 4.5103129e-06,\n",
       "        5.3060507e-08, 2.1812567e-12, 1.3737370e-07, 5.6239315e-07,\n",
       "        1.5839262e-09]], dtype=float32)"
      ]
     },
     "execution_count": 162,
     "metadata": {},
     "output_type": "execute_result"
    }
   ],
   "source": [
    "model.predict(np.expand_dims(test_dataset.iloc[0], axis=0))"
   ]
  },
  {
   "cell_type": "code",
   "execution_count": 144,
   "metadata": {},
   "outputs": [
    {
     "data": {
      "text/plain": [
       "0"
      ]
     },
     "execution_count": 144,
     "metadata": {},
     "output_type": "execute_result"
    }
   ],
   "source": [
    "# Location of highest prediction\n",
    "np.argmax(predictions[0])"
   ]
  },
  {
   "cell_type": "code",
   "execution_count": 145,
   "metadata": {},
   "outputs": [
    {
     "data": {
      "text/plain": [
       "0.0"
      ]
     },
     "execution_count": 145,
     "metadata": {},
     "output_type": "execute_result"
    }
   ],
   "source": [
    "# Correct label in test set\n",
    "test_labels.iloc[0]"
   ]
  },
  {
   "cell_type": "code",
   "execution_count": null,
   "metadata": {},
   "outputs": [],
   "source": []
  }
 ],
 "metadata": {
  "kernelspec": {
   "display_name": "Python 3",
   "language": "python",
   "name": "python3"
  },
  "language_info": {
   "codemirror_mode": {
    "name": "ipython",
    "version": 3
   },
   "file_extension": ".py",
   "mimetype": "text/x-python",
   "name": "python",
   "nbconvert_exporter": "python",
   "pygments_lexer": "ipython3",
   "version": "3.7.4"
  }
 },
 "nbformat": 4,
 "nbformat_minor": 2
}
