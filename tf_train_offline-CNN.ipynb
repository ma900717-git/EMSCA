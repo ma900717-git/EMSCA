{
 "cells": [
  {
   "cell_type": "code",
   "execution_count": 1,
   "metadata": {},
   "outputs": [],
   "source": [
    "from __future__ import absolute_import, division, print_function, unicode_literals\n",
    "import tensorflow as tf\n",
    "from tensorflow import keras\n",
    "from tensorflow.keras import datasets, layers, models\n",
    "\n",
    "import matplotlib.pyplot as plt\n",
    "from scipy.io import loadmat\n",
    "import numpy as np\n",
    "import pandas as pd\n",
    "\n",
    "# tf tutorial\n",
    "# https://colab.research.google.com/github/tensorflow/docs/blob/master/site/en/tutorials/keras/regression.ipynb#scrollTo=Cuym4yvk76vU"
   ]
  },
  {
   "cell_type": "code",
   "execution_count": 2,
   "metadata": {},
   "outputs": [],
   "source": [
    "mat = loadmat('em_fixed_text_9loc.mat')\n",
    "labels = mat['label']\n",
    "traces = mat['traces']\n",
    "\n",
    "raw_dataset = pd.DataFrame(np.concatenate((np.transpose(labels), traces), axis=1))\n",
    "dataset = raw_dataset.copy()"
   ]
  },
  {
   "cell_type": "code",
   "execution_count": 3,
   "metadata": {},
   "outputs": [],
   "source": [
    "# Creat dataset 60/20/20\n",
    "train_dataset = dataset.sample(frac = 0.8) # random shuffle\n",
    "test_dataset = dataset.drop(train_dataset.index)\n",
    "\n",
    "# Seperate lables\n",
    "train_labels = train_dataset.pop(0)\n",
    "test_labels = test_dataset.pop(0)\n",
    "# train_dataset.describe()\n",
    "# test_dataset.describe()"
   ]
  },
  {
   "cell_type": "code",
   "execution_count": 4,
   "metadata": {},
   "outputs": [
    {
     "name": "stdout",
     "output_type": "stream",
     "text": [
      "Model: \"sequential\"\n",
      "_________________________________________________________________\n",
      "Layer (type)                 Output Shape              Param #   \n",
      "=================================================================\n",
      "reshape (Reshape)            (None, 5000, 1)           0         \n",
      "_________________________________________________________________\n",
      "conv1d (Conv1D)              (None, 4971, 30)          930       \n",
      "_________________________________________________________________\n",
      "max_pooling1d (MaxPooling1D) (None, 1657, 30)          0         \n",
      "_________________________________________________________________\n",
      "dropout (Dropout)            (None, 1657, 30)          0         \n",
      "_________________________________________________________________\n",
      "conv1d_1 (Conv1D)            (None, 1638, 50)          30050     \n",
      "_________________________________________________________________\n",
      "max_pooling1d_1 (MaxPooling1 (None, 546, 50)           0         \n",
      "_________________________________________________________________\n",
      "dropout_1 (Dropout)          (None, 546, 50)           0         \n",
      "_________________________________________________________________\n",
      "flatten (Flatten)            (None, 27300)             0         \n",
      "_________________________________________________________________\n",
      "dense (Dense)                (None, 64)                1747264   \n",
      "_________________________________________________________________\n",
      "dense_1 (Dense)              (None, 9)                 585       \n",
      "=================================================================\n",
      "Total params: 1,778,829\n",
      "Trainable params: 1,778,829\n",
      "Non-trainable params: 0\n",
      "_________________________________________________________________\n"
     ]
    }
   ],
   "source": [
    "model = models.Sequential()\n",
    "model.add(layers.Reshape((5000, 1), input_shape=(5000, )))\n",
    "model.add(layers.Conv1D(30, 30, activation='relu', input_shape=(5000, 1)))\n",
    "model.add(layers.MaxPooling1D(3))\n",
    "model.add(layers.Dropout(0.2))\n",
    "model.add(layers.Conv1D(50, 20, activation='relu'))\n",
    "model.add(layers.MaxPooling1D(3))\n",
    "model.add(layers.Dropout(0.2))\n",
    "model.add(layers.Flatten())\n",
    "model.add(layers.Dense(64, activation='relu'))\n",
    "model.add(layers.Dense(9, activation='softmax'))\n",
    "model.summary()"
   ]
  },
  {
   "cell_type": "code",
   "execution_count": 6,
   "metadata": {},
   "outputs": [
    {
     "name": "stdout",
     "output_type": "stream",
     "text": [
      "Failed to import pydot. You must install pydot and graphviz for `pydotprint` to work.\n"
     ]
    }
   ],
   "source": [
    "# inputs = keras.Input(shape=(5000,), name='sample_input')\n",
    "# x = layers.Dense(64, activation='relu')(inputs)\n",
    "# x = layers.Dense(64, activation='relu')(x)\n",
    "# outputs = layers.Dense(9, activation='softmax', name='Final')(x)\n",
    "# model = keras.Model(inputs=inputs, outputs=outputs, name='location')\n",
    "\n",
    "model.compile(optimizer='adam',\n",
    "              loss='sparse_categorical_crossentropy',\n",
    "              metrics=['accuracy'])\n",
    "\n",
    "# model.summary()\n",
    "keras.utils.plot_model(model, show_shapes=True)"
   ]
  },
  {
   "cell_type": "code",
   "execution_count": 7,
   "metadata": {},
   "outputs": [
    {
     "name": "stdout",
     "output_type": "stream",
     "text": [
      "WARNING:tensorflow:Falling back from v2 loop because of error: Failed to find data adapter that can handle input: <class 'pandas.core.frame.DataFrame'>, <class 'NoneType'>\n",
      "WARNING:tensorflow:From D:\\PyhtonRelated\\anaconda\\envs\\tf\\lib\\site-packages\\tensorflow_core\\python\\ops\\math_grad.py:1424: where (from tensorflow.python.ops.array_ops) is deprecated and will be removed in a future version.\n",
      "Instructions for updating:\n",
      "Use tf.where in 2.0, which has the same broadcast rule as np.where\n",
      "Train on 5400 samples, validate on 1800 samples\n",
      "Epoch 1/20\n",
      "5400/5400 - 6s - loss: 0.5394 - accuracy: 0.7924 - val_loss: 0.2214 - val_accuracy: 0.8811\n",
      "Epoch 2/20\n",
      "5400/5400 - 5s - loss: 0.1990 - accuracy: 0.9065 - val_loss: 0.1781 - val_accuracy: 0.8922\n",
      "Epoch 3/20\n",
      "5400/5400 - 5s - loss: 0.1530 - accuracy: 0.9409 - val_loss: 0.1438 - val_accuracy: 0.8917\n",
      "Epoch 4/20\n",
      "5400/5400 - 5s - loss: 0.0780 - accuracy: 0.9830 - val_loss: 0.0517 - val_accuracy: 0.9950\n",
      "Epoch 5/20\n",
      "5400/5400 - 5s - loss: 0.0374 - accuracy: 0.9954 - val_loss: 0.0282 - val_accuracy: 0.9967\n",
      "Epoch 6/20\n",
      "5400/5400 - 6s - loss: 0.0258 - accuracy: 0.9957 - val_loss: 0.0205 - val_accuracy: 0.9967\n",
      "Epoch 7/20\n",
      "5400/5400 - 6s - loss: 0.0250 - accuracy: 0.9954 - val_loss: 0.0269 - val_accuracy: 0.9967\n",
      "Epoch 8/20\n",
      "5400/5400 - 6s - loss: 0.0257 - accuracy: 0.9959 - val_loss: 0.0276 - val_accuracy: 0.9967\n",
      "Epoch 9/20\n",
      "5400/5400 - 6s - loss: 0.0209 - accuracy: 0.9961 - val_loss: 0.0216 - val_accuracy: 0.9967\n",
      "Epoch 10/20\n",
      "5400/5400 - 6s - loss: 0.0279 - accuracy: 0.9928 - val_loss: 0.0206 - val_accuracy: 0.9967\n",
      "Epoch 11/20\n",
      "5400/5400 - 6s - loss: 0.0487 - accuracy: 0.9904 - val_loss: 0.0214 - val_accuracy: 0.9967\n",
      "WARNING:tensorflow:Falling back from v2 loop because of error: Failed to find data adapter that can handle input: <class 'pandas.core.frame.DataFrame'>, <class 'NoneType'>\n",
      "1800/1800 [==============================] - 1s 344us/sample - loss: 0.0174 - accuracy: 0.9967\n"
     ]
    }
   ],
   "source": [
    "early_stop = keras.callbacks.EarlyStopping(monitor='val_loss', patience=5)\n",
    "\n",
    "# Train model\n",
    "history = model.fit(train_dataset, train_labels, batch_size=32,\n",
    "                   epochs=20, validation_split=0.25, verbose=2,\n",
    "                   callbacks=[early_stop])\n",
    "\n",
    "# Save model\n",
    "model.save('tf_model_CNN_location.h5')\n",
    "\n",
    "# Check accuracy on test set\n",
    "test_loss, test_acc = model.evaluate(test_dataset, test_labels)"
   ]
  },
  {
   "cell_type": "markdown",
   "metadata": {},
   "source": [
    "### Plot validation loss vs training loss "
   ]
  },
  {
   "cell_type": "code",
   "execution_count": 8,
   "metadata": {},
   "outputs": [
    {
     "data": {
      "image/png": "[encoded data removed]",
      "text/plain": [
       "<Figure size 432x288 with 1 Axes>"
      ]
     },
     "metadata": {
      "needs_background": "light"
     },
     "output_type": "display_data"
    }
   ],
   "source": [
    "# hist = pd.DataFrame(history.history)\n",
    "# hist['epoch'] = history.epoch\n",
    "# hist.tail()\n",
    "def plot_history(history):\n",
    "  hist = pd.DataFrame(history.history)\n",
    "  hist['epoch'] = history.epoch\n",
    "\n",
    "  plt.figure()\n",
    "  plt.xlabel('Epoch')\n",
    "  plt.ylabel('Loss')\n",
    "  plt.plot(hist['epoch'], hist['loss'],\n",
    "           label='Training loss')\n",
    "  plt.plot(hist['epoch'], hist['val_loss'],\n",
    "           label = 'Val loss')\n",
    "#   plt.ylim([0,1.1])\n",
    "  plt.legend()\n",
    "  plt.show()\n",
    "plot_history(history)"
   ]
  },
  {
   "cell_type": "markdown",
   "metadata": {},
   "source": [
    "### Load trained model "
   ]
  },
  {
   "cell_type": "code",
   "execution_count": 8,
   "metadata": {},
   "outputs": [],
   "source": [
    "# Load saved model\n",
    "newmodel = keras.models.load_model('tf_model_CNN_location.h5')"
   ]
  },
  {
   "cell_type": "markdown",
   "metadata": {},
   "source": [
    "### Sanity check of predictions on test set "
   ]
  },
  {
   "cell_type": "code",
   "execution_count": 9,
   "metadata": {},
   "outputs": [
    {
     "name": "stdout",
     "output_type": "stream",
     "text": [
      "WARNING:tensorflow:Falling back from v2 loop because of error: Failed to find data adapter that can handle input: <class 'pandas.core.frame.DataFrame'>, <class 'NoneType'>\n"
     ]
    },
    {
     "data": {
      "text/plain": [
       "array([9.9673212e-01, 1.3416268e-06, 1.3002798e-06, 3.1064565e-03,\n",
       "       4.9929499e-10, 4.9434918e-11, 4.3644901e-05, 8.8966328e-05,\n",
       "       2.6276235e-05], dtype=float32)"
      ]
     },
     "execution_count": 9,
     "metadata": {},
     "output_type": "execute_result"
    }
   ],
   "source": [
    "predictions = model.predict(test_dataset)\n",
    "\n",
    "k = 123\n",
    "predictions[k]"
   ]
  },
  {
   "cell_type": "code",
   "execution_count": 10,
   "metadata": {},
   "outputs": [
    {
     "data": {
      "text/plain": [
       "array([[9.9620879e-01, 2.4796564e-06, 1.3492887e-06, 3.3610840e-03,\n",
       "        4.0334827e-10, 1.8006357e-11, 4.9740014e-05, 3.5814688e-04,\n",
       "        1.8410232e-05]], dtype=float32)"
      ]
     },
     "execution_count": 10,
     "metadata": {},
     "output_type": "execute_result"
    }
   ],
   "source": [
    "model.predict(np.expand_dims(test_dataset.iloc[0], axis=0))"
   ]
  },
  {
   "cell_type": "code",
   "execution_count": 11,
   "metadata": {},
   "outputs": [
    {
     "data": {
      "text/plain": [
       "0"
      ]
     },
     "execution_count": 11,
     "metadata": {},
     "output_type": "execute_result"
    }
   ],
   "source": [
    "# Location of highest prediction\n",
    "np.argmax(predictions[0])"
   ]
  },
  {
   "cell_type": "code",
   "execution_count": 12,
   "metadata": {},
   "outputs": [
    {
     "data": {
      "text/plain": [
       "0.0"
      ]
     },
     "execution_count": 12,
     "metadata": {},
     "output_type": "execute_result"
    }
   ],
   "source": [
    "# Correct label in test set\n",
    "test_labels.iloc[0]"
   ]
  },
  {
   "cell_type": "code",
   "execution_count": null,
   "metadata": {},
   "outputs": [],
   "source": []
  }
 ],
 "metadata": {
  "kernelspec": {
   "display_name": "Python 3",
   "language": "python",
   "name": "python3"
  },
  "language_info": {
   "codemirror_mode": {
    "name": "ipython",
    "version": 3
   },
   "file_extension": ".py",
   "mimetype": "text/x-python",
   "name": "python",
   "nbconvert_exporter": "python",
   "pygments_lexer": "ipython3",
   "version": "3.7.4"
  }
 },
 "nbformat": 4,
 "nbformat_minor": 2
}
